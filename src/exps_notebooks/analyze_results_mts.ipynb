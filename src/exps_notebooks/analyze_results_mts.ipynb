{
 "cells": [
  {
   "cell_type": "code",
   "execution_count": 1,
   "metadata": {},
   "outputs": [],
   "source": [
    "import sys\n",
    "sys.path.append('../')\n",
    "from pathlib import Path\n",
    "import json\n",
    "import numpy as np\n",
    "\n",
    "from ue4nlp.ue_scores import sampled_max_prob, bald"
   ]
  },
  {
   "cell_type": "code",
   "execution_count": 2,
   "metadata": {},
   "outputs": [],
   "source": [
    "seeds = [4837, 42, 705525, 23419, 1084218, 10671619]\n",
    "\n",
    "# def extract_scores(res_path_btnk, res_path_lora, res_path_no_adp):\n",
    "#     preds_btnk = []\n",
    "#     preds_lora = []\n",
    "#     preds_no_adp = []\n",
    "\n",
    "#     for seed in seeds:\n",
    "#         for res_path, preds_list in [(res_path_btnk, preds_btnk),\n",
    "#                                      (res_path_lora, preds_lora),\n",
    "#                                      (res_path_no_adp, preds_no_adp)]:\n",
    "#             with open(Path(res_path) / str(seed) / 'dev_inference.json') as f:\n",
    "#                 model_outputs = json.load(f)\n",
    "#             preds_list.append(model_outputs['sampled_probabilities'])\n",
    "\n",
    "#     avg_preds_btnk = np.mean(preds_btnk, axis=0)\n",
    "#     avg_preds_lora = np.mean(preds_lora, axis=0)\n",
    "#     avg_preds_no_adp = np.mean(preds_no_adp, axis=0)\n",
    "\n",
    "#     return avg_preds_btnk, avg_preds_lora, avg_preds_no_adp\n",
    "\n",
    "def extract_scores(*res_paths):\n",
    "    preds = [[] for _ in range(len(res_paths))]\n",
    "\n",
    "    for seed in seeds:\n",
    "        for i, res_path in enumerate(res_paths):\n",
    "            with open(Path(res_path) / str(seed) / 'dev_inference.json') as f:\n",
    "                model_outputs = json.load(f)\n",
    "            preds[i].append(model_outputs['sampled_probabilities'])\n",
    "\n",
    "    avg_preds = [np.mean(pred, axis=0) for pred in preds]\n",
    "    return avg_preds"
   ]
  },
  {
   "cell_type": "markdown",
   "metadata": {},
   "source": [
    "# DeBERTa"
   ]
  },
  {
   "cell_type": "code",
   "execution_count": 3,
   "metadata": {},
   "outputs": [],
   "source": [
    "res_path_btnk = Path('/home/dsgalimzya/uncertainty_transformers/workdir/run_tasks_for_model_series_BTLNK_PF/deberta_metric_no_sn/cola/0.0/mc_all/results')\n",
    "res_path_lora = Path('/home/dsgalimzya/uncertainty_transformers/workdir/run_tasks_for_model_series_LORA/deberta_metric_no_sn/cola/0.0/mc_all/results')\n",
    "res_path_no_adp = Path('/home/dsgalimzya/uncertainty_transformers/workdir/run_tasks_for_model_series_NO_ADP/deberta_metric_no_sn/cola/0.0/mc_all/results')\n",
    "\n",
    "avg_preds_btnk_deberta, avg_preds_lora_deberta, avg_preds_no_adp_deberta = extract_scores(res_path_btnk, \n",
    "                                                                                          res_path_lora, \n",
    "                                                                                          res_path_no_adp)"
   ]
  },
  {
   "cell_type": "code",
   "execution_count": 4,
   "metadata": {},
   "outputs": [],
   "source": [
    "bald_scores_btnk_deberta = bald(avg_preds_btnk_deberta.transpose(1, 0, 2))\n",
    "bald_scores_lora_deberta = bald(avg_preds_lora_deberta.transpose(1, 0, 2))\n",
    "bald_scores_no_adp_deberta = bald(avg_preds_no_adp_deberta.transpose(1, 0, 2))\n",
    "\n",
    "smp_scores_btnk_deberta = sampled_max_prob(avg_preds_btnk_deberta.transpose(1, 0, 2))\n",
    "smp_scores_lora_deberta = sampled_max_prob(avg_preds_lora_deberta.transpose(1, 0, 2))\n",
    "smp_scores_no_adp_deberta = sampled_max_prob(avg_preds_no_adp_deberta.transpose(1, 0, 2))"
   ]
  },
  {
   "cell_type": "markdown",
   "metadata": {},
   "source": [
    "# BALD scores"
   ]
  },
  {
   "cell_type": "code",
   "execution_count": 5,
   "metadata": {},
   "outputs": [
    {
     "name": "stdout",
     "output_type": "stream",
     "text": [
      "Pearson coeff: bottleneck adapter (Pfeiffer): 0.64\n",
      "Pearson coeff: LoRA: 0.624\n"
     ]
    }
   ],
   "source": [
    "from scipy.stats import pearsonr\n",
    "\n",
    "print(f'Pearson coeff: bottleneck adapter (Pfeiffer): {round(pearsonr(bald_scores_btnk_deberta, bald_scores_no_adp_deberta).statistic, 3)}')\n",
    "print(f'Pearson coeff: LoRA: {round(pearsonr(bald_scores_lora_deberta, bald_scores_no_adp_deberta).statistic, 3)}')"
   ]
  },
  {
   "cell_type": "code",
   "execution_count": 6,
   "metadata": {},
   "outputs": [
    {
     "name": "stdout",
     "output_type": "stream",
     "text": [
      "Spearman coeff: bottleneck adapter (Pfeiffer): 0.752\n",
      "Spearman coeff: LoRA: 0.713\n"
     ]
    }
   ],
   "source": [
    "from scipy.stats import spearmanr\n",
    "\n",
    "print(f'Spearman coeff: bottleneck adapter (Pfeiffer): {round(spearmanr(bald_scores_btnk_deberta, bald_scores_no_adp_deberta).statistic, 3)}')\n",
    "print(f'Spearman coeff: LoRA: {round(spearmanr(bald_scores_lora_deberta, bald_scores_no_adp_deberta).statistic, 3)}')"
   ]
  },
  {
   "cell_type": "code",
   "execution_count": 7,
   "metadata": {},
   "outputs": [
    {
     "data": {
      "image/png": "[encoded data removed]",
      "text/plain": [
       "<Figure size 640x480 with 1 Axes>"
      ]
     },
     "metadata": {},
     "output_type": "display_data"
    }
   ],
   "source": [
    "import matplotlib.pyplot as plt\n",
    "\n",
    "plt.hist(bald_scores_btnk_deberta, bins=20, alpha=0.5, label='bald_scores_mc_btnk')\n",
    "plt.hist(bald_scores_no_adp_deberta, bins=20, alpha=0.5, label='bald_scores_mc_no_adp')\n",
    "plt.legend()\n",
    "plt.show()"
   ]
  },
  {
   "cell_type": "markdown",
   "metadata": {},
   "source": [
    "# Sampled max prob scores"
   ]
  },
  {
   "cell_type": "code",
   "execution_count": 18,
   "metadata": {},
   "outputs": [
    {
     "name": "stdout",
     "output_type": "stream",
     "text": [
      "Pearson coeff: bottleneck adapter (Pfeiffer): 0.621\n",
      "Pearson coeff: LoRA: 0.654\n"
     ]
    }
   ],
   "source": [
    "print(f'Pearson coeff: bottleneck adapter (Pfeiffer): {round(pearsonr(smp_scores_btnk_deberta, smp_scores_no_adp_deberta).statistic, 3)}')\n",
    "print(f'Pearson coeff: LoRA: {round(pearsonr(smp_scores_lora_deberta, smp_scores_no_adp_deberta).statistic, 3)}')"
   ]
  },
  {
   "cell_type": "code",
   "execution_count": 9,
   "metadata": {},
   "outputs": [
    {
     "name": "stdout",
     "output_type": "stream",
     "text": [
      "Spearman coeff: bottleneck adapter (Pfeiffer): 0.818\n",
      "Spearman coeff: LoRA: 0.8\n"
     ]
    }
   ],
   "source": [
    "print(f'Spearman coeff: bottleneck adapter (Pfeiffer): {round(spearmanr(smp_scores_btnk_deberta, smp_scores_no_adp_deberta).statistic, 3)}')\n",
    "print(f'Spearman coeff: LoRA: {round(spearmanr(smp_scores_lora_deberta, smp_scores_no_adp_deberta).statistic, 3)}')"
   ]
  },
  {
   "cell_type": "code",
   "execution_count": 10,
   "metadata": {},
   "outputs": [
    {
     "data": {
      "image/png": "[encoded data removed]",
      "text/plain": [
       "<Figure size 640x480 with 1 Axes>"
      ]
     },
     "metadata": {},
     "output_type": "display_data"
    }
   ],
   "source": [
    "plt.hist(smp_scores_btnk_deberta, bins=20, alpha=0.5, label='smp_scores_mc_adp')\n",
    "plt.hist(smp_scores_no_adp_deberta, bins=20, alpha=0.5, label='smp_scores_mc_no_adp')\n",
    "plt.legend()\n",
    "plt.show()"
   ]
  },
  {
   "cell_type": "code",
   "execution_count": 11,
   "metadata": {},
   "outputs": [
    {
     "data": {
      "image/png": "[encoded data removed]",
      "text/plain": [
       "<Figure size 640x480 with 1 Axes>"
      ]
     },
     "metadata": {},
     "output_type": "display_data"
    }
   ],
   "source": [
    "plt.hist(smp_scores_lora_deberta, bins=20, alpha=0.5, label='smp_scores_mc_adp')\n",
    "plt.hist(smp_scores_no_adp_deberta, bins=20, alpha=0.5, label='smp_scores_mc_no_adp')\n",
    "plt.legend()\n",
    "plt.show()"
   ]
  },
  {
   "cell_type": "markdown",
   "metadata": {},
   "source": [
    "# BERT"
   ]
  },
  {
   "cell_type": "code",
   "execution_count": 12,
   "metadata": {},
   "outputs": [],
   "source": [
    "res_path_btnk = Path('/home/dsgalimzya/uncertainty_transformers/workdir/run_tasks_for_model_series_bert_pfeiffer/bert/cola/0.0/mc_all/results')\n",
    "res_path_lora = Path('/home/dsgalimzya/uncertainty_transformers/workdir/run_tasks_for_model_series_bert_lora/bert/cola/0.0/mc_all/results')\n",
    "res_path_no_adp = Path('/home/dsgalimzya/uncertainty_transformers/workdir/run_tasks_for_model_series_BERT_NO_ADP/bert/cola/0.0/mc_all/results')"
   ]
  },
  {
   "cell_type": "code",
   "execution_count": 13,
   "metadata": {},
   "outputs": [],
   "source": [
    "avg_preds_btnk_bert, avg_preds_lora_bert, avg_preds_no_adp_bert = extract_scores(res_path_btnk, \n",
    "                                                                                 res_path_lora, \n",
    "                                                                                 res_path_no_adp)"
   ]
  },
  {
   "cell_type": "code",
   "execution_count": 14,
   "metadata": {},
   "outputs": [],
   "source": [
    "bald_scores_btnk_bert = bald(avg_preds_btnk_bert.transpose(1, 0, 2))\n",
    "bald_scores_lora_bert = bald(avg_preds_lora_bert.transpose(1, 0, 2))\n",
    "bald_scores_no_adp_bert = bald(avg_preds_no_adp_bert.transpose(1, 0, 2))\n",
    "\n",
    "smp_scores_btnk_bert = sampled_max_prob(avg_preds_btnk_bert.transpose(1, 0, 2))\n",
    "smp_scores_lora_bert = sampled_max_prob(avg_preds_lora_bert.transpose(1, 0, 2))\n",
    "smp_scores_no_adp_bert = sampled_max_prob(avg_preds_no_adp_bert.transpose(1, 0, 2))"
   ]
  },
  {
   "cell_type": "markdown",
   "metadata": {},
   "source": [
    "# BALD scores"
   ]
  },
  {
   "cell_type": "code",
   "execution_count": 15,
   "metadata": {},
   "outputs": [
    {
     "name": "stdout",
     "output_type": "stream",
     "text": [
      "Pearson coeff: bottleneck adapter (Pfeiffer): 0.741\n",
      "Pearson coeff: LoRA: 0.646\n"
     ]
    }
   ],
   "source": [
    "print(f'Pearson coeff: bottleneck adapter (Pfeiffer): {round(pearsonr(bald_scores_btnk_bert, bald_scores_no_adp_bert).statistic, 3)}')\n",
    "print(f'Pearson coeff: LoRA: {round(pearsonr(bald_scores_lora_bert, bald_scores_no_adp_bert).statistic, 3)}')"
   ]
  },
  {
   "cell_type": "code",
   "execution_count": 16,
   "metadata": {},
   "outputs": [
    {
     "name": "stdout",
     "output_type": "stream",
     "text": [
      "Spearman coeff: bottleneck adapter (Pfeiffer): 0.8\n",
      "Spearman coeff: LoRA: 0.735\n"
     ]
    }
   ],
   "source": [
    "print(f'Spearman coeff: bottleneck adapter (Pfeiffer): {round(spearmanr(bald_scores_btnk_bert, bald_scores_no_adp_bert).statistic, 3)}')\n",
    "print(f'Spearman coeff: LoRA: {round(spearmanr(bald_scores_lora_bert, bald_scores_no_adp_bert).statistic, 3)}')"
   ]
  },
  {
   "cell_type": "markdown",
   "metadata": {},
   "source": [
    "# BALD scores BERT vs DeBERTa"
   ]
  },
  {
   "cell_type": "code",
   "execution_count": 17,
   "metadata": {},
   "outputs": [
    {
     "name": "stdout",
     "output_type": "stream",
     "text": [
      "Pearson coeff: bottleneck adapter (Pfeiffer): 0.553\n",
      "Pearson coeff: LoRA: 0.528\n"
     ]
    }
   ],
   "source": [
    "print(f'Pearson coeff: bottleneck adapter (Pfeiffer): {round(pearsonr(bald_scores_btnk_bert, bald_scores_btnk_deberta).statistic, 3)}')\n",
    "print(f'Pearson coeff: LoRA: {round(pearsonr(bald_scores_lora_bert, bald_scores_lora_deberta).statistic, 3)}')"
   ]
  },
  {
   "cell_type": "code",
   "execution_count": 21,
   "metadata": {},
   "outputs": [
    {
     "name": "stdout",
     "output_type": "stream",
     "text": [
      "Spearman coeff: bottleneck adapter (Pfeiffer): 0.668\n",
      "Spearman coeff: LoRA: 0.593\n"
     ]
    }
   ],
   "source": [
    "print(f'Spearman coeff: bottleneck adapter (Pfeiffer): {round(spearmanr(bald_scores_btnk_bert, bald_scores_btnk_deberta).statistic, 3)}')\n",
    "print(f'Spearman coeff: LoRA: {round(spearmanr(bald_scores_lora_bert, bald_scores_lora_deberta).statistic, 3)}')"
   ]
  },
  {
   "cell_type": "markdown",
   "metadata": {},
   "source": [
    "# Sampled max prob scores"
   ]
  },
  {
   "cell_type": "code",
   "execution_count": 19,
   "metadata": {},
   "outputs": [
    {
     "name": "stdout",
     "output_type": "stream",
     "text": [
      "Pearson coeff: bottleneck adapter (Pfeiffer): 0.727\n",
      "Pearson coeff: LoRA: 0.684\n"
     ]
    }
   ],
   "source": [
    "print(f'Pearson coeff: bottleneck adapter (Pfeiffer): {round(pearsonr(smp_scores_btnk_bert, smp_scores_no_adp_bert).statistic, 3)}')\n",
    "print(f'Pearson coeff: LoRA: {round(pearsonr(smp_scores_lora_bert, smp_scores_no_adp_bert).statistic, 3)}')"
   ]
  },
  {
   "cell_type": "code",
   "execution_count": 20,
   "metadata": {},
   "outputs": [
    {
     "name": "stdout",
     "output_type": "stream",
     "text": [
      "Spearman coeff: bottleneck adapter (Pfeiffer): 0.849\n",
      "Spearman coeff: LoRA: 0.802\n"
     ]
    }
   ],
   "source": [
    "print(f'Spearman coeff: bottleneck adapter (Pfeiffer): {round(spearmanr(smp_scores_btnk_bert, smp_scores_no_adp_bert).statistic, 3)}')\n",
    "print(f'Spearman coeff: LoRA: {round(spearmanr(smp_scores_lora_bert, smp_scores_no_adp_bert).statistic, 3)}')"
   ]
  },
  {
   "cell_type": "markdown",
   "metadata": {},
   "source": [
    "# Sampled max prob scores BERT vs DeBERTa"
   ]
  },
  {
   "cell_type": "code",
   "execution_count": 23,
   "metadata": {},
   "outputs": [
    {
     "name": "stdout",
     "output_type": "stream",
     "text": [
      "Pearson coeff: bottleneck adapter (Pfeiffer): 0.468\n",
      "Pearson coeff: LoRA: 0.5\n"
     ]
    }
   ],
   "source": [
    "print(f'Pearson coeff: bottleneck adapter (Pfeiffer): {round(pearsonr(smp_scores_btnk_bert, smp_scores_btnk_deberta).statistic, 3)}')\n",
    "print(f'Pearson coeff: LoRA: {round(pearsonr(smp_scores_lora_bert, smp_scores_lora_deberta).statistic, 3)}')"
   ]
  },
  {
   "cell_type": "code",
   "execution_count": 24,
   "metadata": {},
   "outputs": [
    {
     "name": "stdout",
     "output_type": "stream",
     "text": [
      "Spearman coeff: bottleneck adapter (Pfeiffer): 0.709\n",
      "Spearman coeff: LoRA: 0.645\n"
     ]
    }
   ],
   "source": [
    "print(f'Spearman coeff: bottleneck adapter (Pfeiffer): {round(spearmanr(smp_scores_btnk_bert, smp_scores_btnk_deberta).statistic, 3)}')\n",
    "print(f'Spearman coeff: LoRA: {round(spearmanr(smp_scores_lora_bert, smp_scores_lora_deberta).statistic, 3)}')"
   ]
  }
 ],
 "metadata": {
  "kernelspec": {
   "display_name": "Python 3 (ipykernel)",
   "language": "python",
   "name": "python3"
  },
  "language_info": {
   "codemirror_mode": {
    "name": "ipython",
    "version": 3
   },
   "file_extension": ".py",
   "mimetype": "text/x-python",
   "name": "python",
   "nbconvert_exporter": "python",
   "pygments_lexer": "ipython3",
   "version": "3.8.10"
  },
  "vscode": {
   "interpreter": {
    "hash": "31f2aee4e71d21fbe5cf8b01ff0e069b9275f58929596ceb00d14d90e3e16cd6"
   }
  }
 },
 "nbformat": 4,
 "nbformat_minor": 4
}
